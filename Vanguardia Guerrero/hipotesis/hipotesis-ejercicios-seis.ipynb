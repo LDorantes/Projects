{
 "cells": [
  {
   "cell_type": "markdown",
   "metadata": {},
   "source": [
    "# Hipotesis\n",
    "Tienen las estudiantes de 9vo una estatura media diferente de 175 cm?\n",
    "•¿Es la desviación estándar de su estatura igual a o menor que 10 cm?\n",
    "•¿Es diferente la estatura promedio de las mujeres comparada con la de los hombres?"
   ]
  },
  {
   "cell_type": "markdown",
   "metadata": {},
   "source": [
    "Hipótesis 1: Comparar la estatura media de las mujeres con 175 cm.\n",
    "\n",
    "H0 (Hipótesis nula): La estatura media de las mujeres es igual a 175 cm.\n",
    "H1 (Hipótesis alternativa): La estatura media de las mujeres es diferente de 175 cm.\n",
    "Prueba: t-test de una muestra.\n",
    "Hipótesis 2: Desviación estándar de la estatura de las mujeres.\n",
    "\n",
    "H0: La desviación estándar de la estatura de las mujeres es igual a 10 cm.\n",
    "H1: La desviación estándar de la estatura de las mujeres es menor o igual a 10 cm.\n",
    "Prueba: Chi-cuadrado para varianzas.\n",
    "Hipótesis 3: Comparar la estatura promedio entre hombres y mujeres.\n",
    "\n",
    "H0: No hay diferencia en la estatura promedio entre hombres y mujeres.\n",
    "H1: Hay una diferencia en la estatura promedio entre hombres y mujeres.\n",
    "Prueba: t-test de dos muestras.\n"
   ]
  },
  {
   "cell_type": "code",
   "execution_count": 2,
   "metadata": {},
   "outputs": [
    {
     "data": {
      "text/html": [
       "<div>\n",
       "<style scoped>\n",
       "    .dataframe tbody tr th:only-of-type {\n",
       "        vertical-align: middle;\n",
       "    }\n",
       "\n",
       "    .dataframe tbody tr th {\n",
       "        vertical-align: top;\n",
       "    }\n",
       "\n",
       "    .dataframe thead th {\n",
       "        text-align: right;\n",
       "    }\n",
       "</style>\n",
       "<table border=\"1\" class=\"dataframe\">\n",
       "  <thead>\n",
       "    <tr style=\"text-align: right;\">\n",
       "      <th></th>\n",
       "      <th>Nombre</th>\n",
       "      <th>Altura (cm)</th>\n",
       "      <th>Sexo</th>\n",
       "    </tr>\n",
       "  </thead>\n",
       "  <tbody>\n",
       "    <tr>\n",
       "      <th>0</th>\n",
       "      <td>Fer</td>\n",
       "      <td>180</td>\n",
       "      <td>M</td>\n",
       "    </tr>\n",
       "    <tr>\n",
       "      <th>1</th>\n",
       "      <td>Ale</td>\n",
       "      <td>170</td>\n",
       "      <td>M</td>\n",
       "    </tr>\n",
       "    <tr>\n",
       "      <th>2</th>\n",
       "      <td>Alex Muñoz</td>\n",
       "      <td>170</td>\n",
       "      <td>M</td>\n",
       "    </tr>\n",
       "    <tr>\n",
       "      <th>3</th>\n",
       "      <td>Gael</td>\n",
       "      <td>168</td>\n",
       "      <td>M</td>\n",
       "    </tr>\n",
       "    <tr>\n",
       "      <th>4</th>\n",
       "      <td>Erick</td>\n",
       "      <td>165</td>\n",
       "      <td>M</td>\n",
       "    </tr>\n",
       "  </tbody>\n",
       "</table>\n",
       "</div>"
      ],
      "text/plain": [
       "       Nombre  Altura (cm) Sexo\n",
       "0         Fer          180    M\n",
       "1         Ale          170    M\n",
       "2  Alex Muñoz          170    M\n",
       "3        Gael          168    M\n",
       "4       Erick          165    M"
      ]
     },
     "execution_count": 2,
     "metadata": {},
     "output_type": "execute_result"
    }
   ],
   "source": [
    "import pandas as pd\n",
    "\n",
    "# Cargar el archivo CSV proporcionado por el usuario\n",
    "file_path = 'Alturas7mo.csv'\n",
    "\n",
    "\n",
    "data = pd.read_csv(file_path)\n",
    "\n",
    "# Mostrar las primeras filas del archivo para revisar su estructura\n",
    "data.head()\n",
    "\n",
    "# Filtrar solo las filas que contienen nombres, alturas y sexo\n",
    "# Eliminar filas que contienen valores no numéricos en la columna 'Altura (cm)'\n",
    "cleaned_data = data[pd.to_numeric(data['Altura (cm)'], errors='coerce').notnull()]\n",
    "\n",
    "# Seleccionar solo las columnas necesarias: Nombre, Altura (cm), Sexo\n",
    "cleaned_data = cleaned_data[['Nombre', 'Altura (cm)', 'Sexo']]\n",
    "\n",
    "# Convertir las alturas a numérico para evitar problemas\n",
    "cleaned_data['Altura (cm)'] = pd.to_numeric(cleaned_data['Altura (cm)'])\n",
    "\n",
    "# Mostrar el conjunto de datos limpio\n",
    "cleaned_data.head()\n"
   ]
  },
  {
   "cell_type": "markdown",
   "metadata": {},
   "source": [
    "Realizaremos una prueba t de una muestra para comparar la estatura promedio de las mujeres con 175 cm.\n",
    "Calcularemos la prueba de chi-cuadrado para comparar la desviación estándar con 10 cm.\n",
    "Haremos una prueba t de dos muestras para comparar la estatura promedio entre hombres y mujeres."
   ]
  },
  {
   "cell_type": "code",
   "execution_count": 3,
   "metadata": {},
   "outputs": [
    {
     "data": {
      "text/plain": [
       "(np.float64(-6.0), np.float64(0.10513691342250685))"
      ]
     },
     "execution_count": 3,
     "metadata": {},
     "output_type": "execute_result"
    }
   ],
   "source": [
    "from scipy import stats\n",
    "\n",
    "# Filtrar las alturas de las mujeres\n",
    "women_heights = cleaned_data[cleaned_data['Sexo'] == 'F']['Altura (cm)']\n",
    "\n",
    "# Hipótesis 1: Prueba t de una muestra (media de las mujeres comparada con 175 cm)\n",
    "mu = 175  # media hipotética\n",
    "t_stat, p_value = stats.ttest_1samp(women_heights, mu)\n",
    "\n",
    "t_stat, p_value\n"
   ]
  },
  {
   "cell_type": "markdown",
   "metadata": {},
   "source": [
    "Para la primera hipótesis (comparar la estatura media de las mujeres con 175 cm), obtuvimos los siguientes resultados:\n",
    "\n",
    "t-valor: -6.0\n",
    "p-valor: 0.1051\n",
    "Dado que el p-valor es mayor que el nivel de significancia típico de 0.05, no tenemos suficiente evidencia para rechazar la hipótesis nula. Esto significa que no podemos concluir que la estatura media de las mujeres sea significativamente diferente de 175 cm."
   ]
  },
  {
   "cell_type": "markdown",
   "metadata": {},
   "source": [
    "Ahora, pasemos a la prueba de chi-cuadrado para comparar la desviación estándar de las mujeres con 10 cm.\n"
   ]
  },
  {
   "cell_type": "code",
   "execution_count": 4,
   "metadata": {},
   "outputs": [
    {
     "data": {
      "text/plain": [
       "(np.float64(1.4142135623730951),\n",
       " np.float64(0.020000000000000004),\n",
       " np.float64(0.887537083981715))"
      ]
     },
     "execution_count": 4,
     "metadata": {},
     "output_type": "execute_result"
    }
   ],
   "source": [
    "# Hipótesis 2: Prueba de chi-cuadrado para la desviación estándar\n",
    "# H0: La desviación estándar es igual a 10 cm.\n",
    "\n",
    "# Calcular la desviación estándar muestral\n",
    "std_women = women_heights.std(ddof=1)\n",
    "\n",
    "# Número de mujeres en la muestra\n",
    "n_women = len(women_heights)\n",
    "\n",
    "# Estadístico chi-cuadrado\n",
    "chi_square_stat = (n_women - 1) * (std_women ** 2) / (10 ** 2)\n",
    "\n",
    "# p-valor asociado\n",
    "p_value_chi = stats.chi2.sf(chi_square_stat, df=n_women - 1)\n",
    "\n",
    "std_women, chi_square_stat, p_value_chi\n"
   ]
  },
  {
   "cell_type": "markdown",
   "metadata": {},
   "source": [
    "Hipótesis:\n",
    "Hipótesis nula (H₀): La desviación estándar de las alturas de las mujeres es igual a 10 cm.\n",
    "Hipótesis alternativa (H₁): La desviación estándar de las alturas de las mujeres es diferente de 10 cm.\n",
    "Resultados obtenidos:\n",
    "Desviación estándar muestral: 1.414 cm.\n",
    "Estadístico chi-cuadrado: 0.02.\n",
    "p-valor: 0.8875.\n",
    "Interpretación:\n",
    "Desviación estándar muestral (1.414 cm): Es mucho menor que la desviación estándar bajo la hipótesis nula (10 cm).\n",
    "\n",
    "p-valor (0.8875): Este p-valor es mucho mayor que un nivel de significancia común, como 0.05. Esto significa que no tenemos suficiente evidencia para rechazar la hipótesis nula. En otras palabras, no hay evidencia significativa para concluir que la desviación estándar es diferente de 10 cm.\n",
    "\n",
    "Conclusión:\n",
    "Dado que el p-valor es muy alto (0.8875), no rechazamos la hipótesis nula. Esto indica que, con los datos disponibles, no hay suficiente evidencia para afirmar que la desviación estándar de las alturas de las mujeres es significativamente diferente de 10 cm.\n",
    "\n",
    "En resumen, con base en estos resultados, podríamos decir que la desviación estándar observada no es significativamente distinta de 10 cm."
   ]
  }
 ],
 "metadata": {
  "kernelspec": {
   "display_name": "Python 3",
   "language": "python",
   "name": "python3"
  },
  "language_info": {
   "codemirror_mode": {
    "name": "ipython",
    "version": 3
   },
   "file_extension": ".py",
   "mimetype": "text/x-python",
   "name": "python",
   "nbconvert_exporter": "python",
   "pygments_lexer": "ipython3",
   "version": "3.10.6"
  }
 },
 "nbformat": 4,
 "nbformat_minor": 2
}

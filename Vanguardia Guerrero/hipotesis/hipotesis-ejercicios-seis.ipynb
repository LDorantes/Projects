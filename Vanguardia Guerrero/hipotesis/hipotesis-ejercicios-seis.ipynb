{
 "cells": [
  {
   "cell_type": "markdown",
   "metadata": {},
   "source": [
    "# Hipotesis\n",
    "Tienen las estudiantes de 9vo una estatura media diferente de 175 cm?\n",
    "•¿Es la desviación estándar de su estatura igual a o menor que 10 cm?\n",
    "•¿Es diferente la estatura promedio de las mujeres comparada con la de los hombres?"
   ]
  },
  {
   "cell_type": "markdown",
   "metadata": {},
   "source": [
    "Hipótesis 1: Comparar la estatura media de las mujeres con 175 cm.\n",
    "\n",
    "H0 (Hipótesis nula): La estatura media de las mujeres es igual a 175 cm.\n",
    "H1 (Hipótesis alternativa): La estatura media de las mujeres es diferente de 175 cm.\n",
    "Prueba: t-test de una muestra.\n",
    "Hipótesis 2: Desviación estándar de la estatura de las mujeres.\n",
    "\n",
    "H0: La desviación estándar de la estatura de las mujeres es igual a 10 cm.\n",
    "H1: La desviación estándar de la estatura de las mujeres es menor o igual a 10 cm.\n",
    "Prueba: Chi-cuadrado para varianzas.\n",
    "Hipótesis 3: Comparar la estatura promedio entre hombres y mujeres.\n",
    "\n",
    "H0: No hay diferencia en la estatura promedio entre hombres y mujeres.\n",
    "H1: Hay una diferencia en la estatura promedio entre hombres y mujeres.\n",
    "Prueba: t-test de dos muestras.\n"
   ]
  },
  {
   "cell_type": "code",
   "execution_count": 2,
   "metadata": {},
   "outputs": [
    {
     "data": {
      "text/html": [
       "<div>\n",
       "<style scoped>\n",
       "    .dataframe tbody tr th:only-of-type {\n",
       "        vertical-align: middle;\n",
       "    }\n",
       "\n",
       "    .dataframe tbody tr th {\n",
       "        vertical-align: top;\n",
       "    }\n",
       "\n",
       "    .dataframe thead th {\n",
       "        text-align: right;\n",
       "    }\n",
       "</style>\n",
       "<table border=\"1\" class=\"dataframe\">\n",
       "  <thead>\n",
       "    <tr style=\"text-align: right;\">\n",
       "      <th></th>\n",
       "      <th>Nombre</th>\n",
       "      <th>Altura (cm)</th>\n",
       "      <th>Sexo</th>\n",
       "    </tr>\n",
       "  </thead>\n",
       "  <tbody>\n",
       "    <tr>\n",
       "      <th>0</th>\n",
       "      <td>Fer</td>\n",
       "      <td>180</td>\n",
       "      <td>M</td>\n",
       "    </tr>\n",
       "    <tr>\n",
       "      <th>1</th>\n",
       "      <td>Ale</td>\n",
       "      <td>170</td>\n",
       "      <td>M</td>\n",
       "    </tr>\n",
       "    <tr>\n",
       "      <th>2</th>\n",
       "      <td>Alex Muñoz</td>\n",
       "      <td>170</td>\n",
       "      <td>M</td>\n",
       "    </tr>\n",
       "    <tr>\n",
       "      <th>3</th>\n",
       "      <td>Gael</td>\n",
       "      <td>168</td>\n",
       "      <td>M</td>\n",
       "    </tr>\n",
       "    <tr>\n",
       "      <th>4</th>\n",
       "      <td>Erick</td>\n",
       "      <td>165</td>\n",
       "      <td>M</td>\n",
       "    </tr>\n",
       "  </tbody>\n",
       "</table>\n",
       "</div>"
      ],
      "text/plain": [
       "       Nombre  Altura (cm) Sexo\n",
       "0         Fer          180    M\n",
       "1         Ale          170    M\n",
       "2  Alex Muñoz          170    M\n",
       "3        Gael          168    M\n",
       "4       Erick          165    M"
      ]
     },
     "execution_count": 2,
     "metadata": {},
     "output_type": "execute_result"
    }
   ],
   "source": [
    "import pandas as pd\n",
    "\n",
    "# Cargar el archivo CSV proporcionado por el usuario\n",
    "file_path = 'Alturas7mo.csv'\n",
    "\n",
    "\n",
    "data = pd.read_csv(file_path)\n",
    "\n",
    "# Mostrar las primeras filas del archivo para revisar su estructura\n",
    "data.head()\n",
    "\n",
    "# Filtrar solo las filas que contienen nombres, alturas y sexo\n",
    "# Eliminar filas que contienen valores no numéricos en la columna 'Altura (cm)'\n",
    "cleaned_data = data[pd.to_numeric(data['Altura (cm)'], errors='coerce').notnull()]\n",
    "\n",
    "# Seleccionar solo las columnas necesarias: Nombre, Altura (cm), Sexo\n",
    "cleaned_data = cleaned_data[['Nombre', 'Altura (cm)', 'Sexo']]\n",
    "\n",
    "# Convertir las alturas a numérico para evitar problemas\n",
    "cleaned_data['Altura (cm)'] = pd.to_numeric(cleaned_data['Altura (cm)'])\n",
    "\n",
    "# Mostrar el conjunto de datos limpio\n",
    "cleaned_data.head()\n"
   ]
  },
  {
   "cell_type": "markdown",
   "metadata": {},
   "source": [
    "Realizaremos una prueba t de una muestra para comparar la estatura promedio de las mujeres con 175 cm.\n",
    "Calcularemos la prueba de chi-cuadrado para comparar la desviación estándar con 10 cm.\n",
    "Haremos una prueba t de dos muestras para comparar la estatura promedio entre hombres y mujeres."
   ]
  },
  {
   "cell_type": "code",
   "execution_count": 3,
   "metadata": {},
   "outputs": [
    {
     "data": {
      "text/plain": [
       "(np.float64(-6.0), np.float64(0.10513691342250685))"
      ]
     },
     "execution_count": 3,
     "metadata": {},
     "output_type": "execute_result"
    }
   ],
   "source": [
    "from scipy import stats\n",
    "\n",
    "# Filtrar las alturas de las mujeres\n",
    "women_heights = cleaned_data[cleaned_data['Sexo'] == 'F']['Altura (cm)']\n",
    "\n",
    "# Hipótesis 1: Prueba t de una muestra (media de las mujeres comparada con 175 cm)\n",
    "mu = 175  # media hipotética\n",
    "t_stat, p_value = stats.ttest_1samp(women_heights, mu)\n",
    "\n",
    "t_stat, p_value\n"
   ]
  },
  {
   "cell_type": "markdown",
   "metadata": {},
   "source": [
    "Para la primera hipótesis (comparar la estatura media de las mujeres con 175 cm), obtuvimos los siguientes resultados:\n",
    "\n",
    "t-valor: -6.0\n",
    "p-valor: 0.1051\n",
    "Dado que el p-valor es mayor que el nivel de significancia típico de 0.05, no tenemos suficiente evidencia para rechazar la hipótesis nula. Esto significa que no podemos concluir que la estatura media de las mujeres sea significativamente diferente de 175 cm."
   ]
  },
  {
   "cell_type": "markdown",
   "metadata": {},
   "source": [
    "Ahora, pasemos a la prueba de chi-cuadrado para comparar la desviación estándar de las mujeres con 10 cm.\n"
   ]
  },
  {
   "cell_type": "code",
   "execution_count": 4,
   "metadata": {},
   "outputs": [
    {
     "data": {
      "text/plain": [
       "(np.float64(1.4142135623730951),\n",
       " np.float64(0.020000000000000004),\n",
       " np.float64(0.887537083981715))"
      ]
     },
     "execution_count": 4,
     "metadata": {},
     "output_type": "execute_result"
    }
   ],
   "source": [
    "# Hipótesis 2: Prueba de chi-cuadrado para la desviación estándar\n",
    "# H0: La desviación estándar es igual a 10 cm.\n",
    "\n",
    "# Calcular la desviación estándar muestral\n",
    "std_women = women_heights.std(ddof=1)\n",
    "\n",
    "# Número de mujeres en la muestra\n",
    "n_women = len(women_heights)\n",
    "\n",
    "# Estadístico chi-cuadrado\n",
    "chi_square_stat = (n_women - 1) * (std_women ** 2) / (10 ** 2)\n",
    "\n",
    "# p-valor asociado\n",
    "p_value_chi = stats.chi2.sf(chi_square_stat, df=n_women - 1)\n",
    "\n",
    "std_women, chi_square_stat, p_value_chi\n"
   ]
  },
  {
   "cell_type": "markdown",
   "metadata": {},
   "source": [
    "Hipótesis:\n",
    "Hipótesis nula (H₀): La desviación estándar de las alturas de las mujeres es igual a 10 cm.\n",
    "Hipótesis alternativa (H₁): La desviación estándar de las alturas de las mujeres es diferente de 10 cm.\n",
    "Resultados obtenidos:\n",
    "Desviación estándar muestral: 1.414 cm.\n",
    "Estadístico chi-cuadrado: 0.02.\n",
    "p-valor: 0.8875.\n",
    "Interpretación:\n",
    "Desviación estándar muestral (1.414 cm): Es mucho menor que la desviación estándar bajo la hipótesis nula (10 cm).\n",
    "\n",
    "p-valor (0.8875): Este p-valor es mucho mayor que un nivel de significancia común, como 0.05. Esto significa que no tenemos suficiente evidencia para rechazar la hipótesis nula. En otras palabras, no hay evidencia significativa para concluir que la desviación estándar es diferente de 10 cm.\n",
    "\n",
    "Conclusión:\n",
    "Dado que el p-valor es muy alto (0.8875), no rechazamos la hipótesis nula. Esto indica que, con los datos disponibles, no hay suficiente evidencia para afirmar que la desviación estándar de las alturas de las mujeres es significativamente diferente de 10 cm.\n",
    "\n",
    "En resumen, con base en estos resultados, podríamos decir que la desviación estándar observada no es significativamente distinta de 10 cm."
   ]
  },
  {
   "cell_type": "markdown",
   "metadata": {},
   "source": [
    "Hipótesis:\n",
    "Hipótesis nula (H₀): La estatura promedio de las mujeres es igual a la de los hombres.\n",
    "𝐻\n",
    "0\n",
    ":\n",
    "𝜇\n",
    "𝑚\n",
    "𝑢\n",
    "𝑗\n",
    "𝑒\n",
    "𝑟\n",
    "𝑒\n",
    "𝑠\n",
    "=\n",
    "𝜇\n",
    "ℎ\n",
    "𝑜\n",
    "𝑚\n",
    "𝑏\n",
    "𝑟\n",
    "𝑒\n",
    "𝑠\n",
    "H \n",
    "0\n",
    "​\n",
    " :μ \n",
    "mujeres\n",
    "​\n",
    " =μ \n",
    "hombres\n",
    "​\n",
    " \n",
    "Hipótesis alternativa (H₁): La estatura promedio de las mujeres es diferente de la de los hombres.\n",
    "𝐻\n",
    "1\n",
    ":\n",
    "𝜇\n",
    "𝑚\n",
    "𝑢\n",
    "𝑗\n",
    "𝑒\n",
    "𝑟\n",
    "𝑒\n",
    "𝑠\n",
    "≠\n",
    "𝜇\n",
    "ℎ\n",
    "𝑜\n",
    "𝑚\n",
    "𝑏\n",
    "𝑟\n",
    "𝑒\n",
    "𝑠\n",
    "H \n",
    "1\n",
    "​\n",
    " :μ \n",
    "mujeres\n",
    "​\n",
    " \n",
    "\n",
    "=μ \n",
    "hombres\n",
    "​\n",
    " \n",
    "Requisitos:\n",
    "Tenemos dos muestras independientes: las alturas de las mujeres y las alturas de los hombres.\n",
    "Las muestras deben ser independientes.\n",
    "Si las desviaciones estándar poblacionales no son conocidas, se usa la prueba de Mann-Whitney U"
   ]
  },
  {
   "cell_type": "code",
   "execution_count": 16,
   "metadata": {},
   "outputs": [
    {
     "data": {
      "text/plain": [
       "(2, 14)"
      ]
     },
     "execution_count": 16,
     "metadata": {},
     "output_type": "execute_result"
    }
   ],
   "source": [
    "# Verificar si hay valores nulos en las alturas\n",
    "women_heights = data[data['Sexo'] == 'F']['Altura (cm)'].dropna()\n",
    "men_heights = data[data['Sexo'] == 'M']['Altura (cm)'].dropna()\n",
    "\n",
    "# Mostrar el tamaño de las muestras después de filtrar\n",
    "n_women = len(women_heights)\n",
    "n_men = len(men_heights)\n",
    "\n",
    "n_women, n_men\n",
    "\n"
   ]
  },
  {
   "cell_type": "code",
   "execution_count": 18,
   "metadata": {},
   "outputs": [
    {
     "data": {
      "text/plain": [
       "(np.float64(5.5), np.float64(0.19660843905328007))"
      ]
     },
     "execution_count": 18,
     "metadata": {},
     "output_type": "execute_result"
    }
   ],
   "source": [
    "import scipy.stats as stats\n",
    "\n",
    "# Realizar la prueba de Mann-Whitney U para dos muestras independientes\n",
    "u_stat, p_value_mw = stats.mannwhitneyu(women_heights, men_heights, alternative='two-sided')\n",
    "\n",
    "# Mostrar los resultados\n",
    "u_stat, p_value_mw"
   ]
  },
  {
   "cell_type": "markdown",
   "metadata": {},
   "source": [
    "Los resultados de la prueba de Mann-Whitney U son:\n",
    "\n",
    "Estadístico U: 5.5\n",
    "Valor p: 0.1966\n",
    "Interpretación:\n",
    "Estadístico U: Este valor, 5.5, es el estadístico de la prueba Mann-Whitney U, que compara las dos distribuciones (alturas de mujeres y hombres). Un valor más bajo de U sugiere que los valores de una muestra tienden a ser más bajos que los de la otra muestra.\n",
    "\n",
    "Valor p (0.1966): Este es el valor clave para decidir si hay una diferencia significativa entre las alturas de mujeres y hombres. Si el valor p es menor que el nivel de significancia usual (por ejemplo, 0.05), entonces se rechaza la hipótesis nula y se concluye que hay una diferencia significativa. En este caso, el valor p es 0.1966, lo cual es mayor que 0.05.\n",
    "\n",
    "Conclusión:\n",
    "No se puede rechazar la hipótesis nula, lo que significa que no hay evidencia suficiente para afirmar que la estatura promedio de las mujeres es diferente de la de los hombres en esta muestra, con un nivel de confianza del 95%."
   ]
  },
  {
   "cell_type": "markdown",
   "metadata": {},
   "source": [
    "# Hipotesis de vuelos\n"
   ]
  },
  {
   "cell_type": "code",
   "execution_count": 20,
   "metadata": {},
   "outputs": [
    {
     "data": {
      "text/html": [
       "<div>\n",
       "<style scoped>\n",
       "    .dataframe tbody tr th:only-of-type {\n",
       "        vertical-align: middle;\n",
       "    }\n",
       "\n",
       "    .dataframe tbody tr th {\n",
       "        vertical-align: top;\n",
       "    }\n",
       "\n",
       "    .dataframe thead th {\n",
       "        text-align: right;\n",
       "    }\n",
       "</style>\n",
       "<table border=\"1\" class=\"dataframe\">\n",
       "  <thead>\n",
       "    <tr style=\"text-align: right;\">\n",
       "      <th></th>\n",
       "      <th>Year</th>\n",
       "      <th>Month</th>\n",
       "      <th>DayofMonth</th>\n",
       "      <th>DayOfWeek</th>\n",
       "      <th>Carrier</th>\n",
       "      <th>OriginAirportID</th>\n",
       "      <th>OriginAirportName</th>\n",
       "      <th>OriginCity</th>\n",
       "      <th>OriginState</th>\n",
       "      <th>DestAirportID</th>\n",
       "      <th>DestAirportName</th>\n",
       "      <th>DestCity</th>\n",
       "      <th>DestState</th>\n",
       "      <th>CRSDepTime</th>\n",
       "      <th>DepDelay</th>\n",
       "      <th>DepDel15</th>\n",
       "      <th>CRSArrTime</th>\n",
       "      <th>ArrDelay</th>\n",
       "      <th>ArrDel15</th>\n",
       "      <th>Cancelled</th>\n",
       "    </tr>\n",
       "  </thead>\n",
       "  <tbody>\n",
       "    <tr>\n",
       "      <th>0</th>\n",
       "      <td>2013</td>\n",
       "      <td>9</td>\n",
       "      <td>16</td>\n",
       "      <td>1</td>\n",
       "      <td>DL</td>\n",
       "      <td>15304</td>\n",
       "      <td>Tampa International</td>\n",
       "      <td>Tampa</td>\n",
       "      <td>FL</td>\n",
       "      <td>12478</td>\n",
       "      <td>John F. Kennedy International</td>\n",
       "      <td>New York</td>\n",
       "      <td>NY</td>\n",
       "      <td>1539</td>\n",
       "      <td>4</td>\n",
       "      <td>0.0</td>\n",
       "      <td>1824</td>\n",
       "      <td>13</td>\n",
       "      <td>0</td>\n",
       "      <td>0</td>\n",
       "    </tr>\n",
       "    <tr>\n",
       "      <th>1</th>\n",
       "      <td>2013</td>\n",
       "      <td>9</td>\n",
       "      <td>23</td>\n",
       "      <td>1</td>\n",
       "      <td>WN</td>\n",
       "      <td>14122</td>\n",
       "      <td>Pittsburgh International</td>\n",
       "      <td>Pittsburgh</td>\n",
       "      <td>PA</td>\n",
       "      <td>13232</td>\n",
       "      <td>Chicago Midway International</td>\n",
       "      <td>Chicago</td>\n",
       "      <td>IL</td>\n",
       "      <td>710</td>\n",
       "      <td>3</td>\n",
       "      <td>0.0</td>\n",
       "      <td>740</td>\n",
       "      <td>22</td>\n",
       "      <td>1</td>\n",
       "      <td>0</td>\n",
       "    </tr>\n",
       "    <tr>\n",
       "      <th>2</th>\n",
       "      <td>2013</td>\n",
       "      <td>9</td>\n",
       "      <td>7</td>\n",
       "      <td>6</td>\n",
       "      <td>AS</td>\n",
       "      <td>14747</td>\n",
       "      <td>Seattle/Tacoma International</td>\n",
       "      <td>Seattle</td>\n",
       "      <td>WA</td>\n",
       "      <td>11278</td>\n",
       "      <td>Ronald Reagan Washington National</td>\n",
       "      <td>Washington</td>\n",
       "      <td>DC</td>\n",
       "      <td>810</td>\n",
       "      <td>-3</td>\n",
       "      <td>0.0</td>\n",
       "      <td>1614</td>\n",
       "      <td>-7</td>\n",
       "      <td>0</td>\n",
       "      <td>0</td>\n",
       "    </tr>\n",
       "    <tr>\n",
       "      <th>3</th>\n",
       "      <td>2013</td>\n",
       "      <td>7</td>\n",
       "      <td>22</td>\n",
       "      <td>1</td>\n",
       "      <td>OO</td>\n",
       "      <td>13930</td>\n",
       "      <td>Chicago O'Hare International</td>\n",
       "      <td>Chicago</td>\n",
       "      <td>IL</td>\n",
       "      <td>11042</td>\n",
       "      <td>Cleveland-Hopkins International</td>\n",
       "      <td>Cleveland</td>\n",
       "      <td>OH</td>\n",
       "      <td>804</td>\n",
       "      <td>35</td>\n",
       "      <td>1.0</td>\n",
       "      <td>1027</td>\n",
       "      <td>33</td>\n",
       "      <td>1</td>\n",
       "      <td>0</td>\n",
       "    </tr>\n",
       "    <tr>\n",
       "      <th>4</th>\n",
       "      <td>2013</td>\n",
       "      <td>5</td>\n",
       "      <td>16</td>\n",
       "      <td>4</td>\n",
       "      <td>DL</td>\n",
       "      <td>13931</td>\n",
       "      <td>Norfolk International</td>\n",
       "      <td>Norfolk</td>\n",
       "      <td>VA</td>\n",
       "      <td>10397</td>\n",
       "      <td>Hartsfield-Jackson Atlanta International</td>\n",
       "      <td>Atlanta</td>\n",
       "      <td>GA</td>\n",
       "      <td>545</td>\n",
       "      <td>-1</td>\n",
       "      <td>0.0</td>\n",
       "      <td>728</td>\n",
       "      <td>-9</td>\n",
       "      <td>0</td>\n",
       "      <td>0</td>\n",
       "    </tr>\n",
       "  </tbody>\n",
       "</table>\n",
       "</div>"
      ],
      "text/plain": [
       "   Year  Month  DayofMonth  DayOfWeek Carrier  OriginAirportID  \\\n",
       "0  2013      9          16          1      DL            15304   \n",
       "1  2013      9          23          1      WN            14122   \n",
       "2  2013      9           7          6      AS            14747   \n",
       "3  2013      7          22          1      OO            13930   \n",
       "4  2013      5          16          4      DL            13931   \n",
       "\n",
       "              OriginAirportName  OriginCity OriginState  DestAirportID  \\\n",
       "0           Tampa International       Tampa          FL          12478   \n",
       "1      Pittsburgh International  Pittsburgh          PA          13232   \n",
       "2  Seattle/Tacoma International     Seattle          WA          11278   \n",
       "3  Chicago O'Hare International     Chicago          IL          11042   \n",
       "4         Norfolk International     Norfolk          VA          10397   \n",
       "\n",
       "                            DestAirportName    DestCity DestState  CRSDepTime  \\\n",
       "0             John F. Kennedy International    New York        NY        1539   \n",
       "1              Chicago Midway International     Chicago        IL         710   \n",
       "2         Ronald Reagan Washington National  Washington        DC         810   \n",
       "3           Cleveland-Hopkins International   Cleveland        OH         804   \n",
       "4  Hartsfield-Jackson Atlanta International     Atlanta        GA         545   \n",
       "\n",
       "   DepDelay  DepDel15  CRSArrTime  ArrDelay  ArrDel15  Cancelled  \n",
       "0         4       0.0        1824        13         0          0  \n",
       "1         3       0.0         740        22         1          0  \n",
       "2        -3       0.0        1614        -7         0          0  \n",
       "3        35       1.0        1027        33         1          0  \n",
       "4        -1       0.0         728        -9         0          0  "
      ]
     },
     "execution_count": 20,
     "metadata": {},
     "output_type": "execute_result"
    }
   ],
   "source": [
    "import pandas as pd\n",
    "\n",
    "# Cargar el archivo CSV proporcionado por el usuario\n",
    "file_path = 'flights.csv'\n",
    "\n",
    "# Leer los datos\n",
    "data_flights = pd.read_csv(file_path)\n",
    "\n",
    "# Mostrar las primeras filas para ver la estructura del archivo\n",
    "data_flights.head()\n"
   ]
  },
  {
   "cell_type": "markdown",
   "metadata": {},
   "source": [
    "# Hipótesis 1: Retrasos promedio en la salida de vuelos\n",
    "H0 (Hipótesis nula): El retraso promedio en la salida de los vuelos es igual a 0 minutos.\n",
    "\n",
    "H1 (Hipótesis alternativa): El retraso promedio en la salida de los vuelos es diferente de 0 minutos.\n",
    "\n",
    "Utilizaremos una prueba t de una muestra para determinar si el retraso promedio de los vuelos es significativamente diferente de 0 minutos."
   ]
  },
  {
   "cell_type": "code",
   "execution_count": 27,
   "metadata": {},
   "outputs": [
    {
     "name": "stdout",
     "output_type": "stream",
     "text": [
      "Estadístico t: 151.30296677249277\n",
      "Valor p: 0.0\n",
      "Rechazamos la hipótesis nula (H0): El retraso promedio en la salida es significativamente diferente de 0 minutos.\n"
     ]
    },
    {
     "data": {
      "image/png": "[encoded data removed]",
      "text/plain": [
       "<Figure size 1000x600 with 1 Axes>"
      ]
     },
     "metadata": {},
     "output_type": "display_data"
    }
   ],
   "source": [
    "import pandas as pd\n",
    "import matplotlib.pyplot as plt\n",
    "import seaborn as sns\n",
    "from scipy import stats\n",
    "\n",
    "# Cargamos el archivo CSV\n",
    "df_vuelos = pd.read_csv('flights.csv')\n",
    "\n",
    "\n",
    "\n",
    "# Extraemos la columna de retrasos en la salida (DepDelay)\n",
    "retrasos_salida = df_vuelos['DepDelay'].dropna()  # Eliminamos valores nulos si los hay\n",
    "\n",
    "# Realizamos la prueba t de una muestra\n",
    "t_stat, p_value = stats.ttest_1samp(retrasos_salida, 0)\n",
    "\n",
    "# Mostramos los resultados de la prueba t\n",
    "print(f'Estadístico t: {t_stat}')\n",
    "print(f'Valor p: {p_value}')\n",
    "\n",
    "# Interpretación\n",
    "alpha = 0.05  # Nivel de significancia (5%)\n",
    "if p_value < alpha:\n",
    "    print(\"Rechazamos la hipótesis nula (H0): El retraso promedio en la salida es significativamente diferente de 0 minutos.\")\n",
    "else:\n",
    "    print(\"No rechazamos la hipótesis nula (H0): No hay evidencia suficiente para afirmar que el retraso promedio es diferente de 0 minutos.\")\n",
    "\n",
    "# Creamos el histograma\n",
    "plt.figure(figsize=(10,6))\n",
    "sns.histplot(retrasos_salida, bins=50, kde=True, color='skyblue')\n",
    "\n",
    "# Añadimos una línea vertical en 0 minutos\n",
    "plt.axvline(x=0, color='red', linestyle='--', label='0 minutos (Hipótesis nula)')\n",
    "\n",
    "# Añadimos etiquetas y título\n",
    "plt.title('Distribución de los retrasos en la salida de vuelos', fontsize=16)\n",
    "plt.xlabel('Retraso en minutos', fontsize=14)\n",
    "plt.ylabel('Frecuencia', fontsize=14)\n",
    "plt.legend()\n",
    "\n",
    "# Mostramos la gráfica\n",
    "plt.show()\n"
   ]
  },
  {
   "cell_type": "markdown",
   "metadata": {},
   "source": [
    "# Hipótesis 2: Proporción de vuelos cancelados\n",
    "H0 (Hipótesis nula): La proporción de vuelos cancelados es igual al 5%.\n",
    "\n",
    "H1 (Hipótesis alternativa): La proporción de vuelos cancelados es diferente del 5%.\n",
    "\n",
    "Para esta hipótesis, podemos realizar una prueba de proporciones (z-test) para comparar la proporción observada de vuelos cancelados con el 5%."
   ]
  },
  {
   "cell_type": "code",
   "execution_count": 32,
   "metadata": {},
   "outputs": [
    {
     "name": "stdout",
     "output_type": "stream",
     "text": [
      "Estadístico z: -93.97851184139193\n",
      "Valor p: 0.0\n",
      "Rechazamos la hipótesis nula (H0): La proporción de vuelos cancelados es significativamente diferente del 5%.\n"
     ]
    },
    {
     "data": {
      "image/png": "[encoded data removed]",
      "text/plain": [
       "<Figure size 800x600 with 1 Axes>"
      ]
     },
     "metadata": {},
     "output_type": "display_data"
    }
   ],
   "source": [
    "import pandas as pd\n",
    "import numpy as np\n",
    "import matplotlib.pyplot as plt\n",
    "from scipy import stats\n",
    "\n",
    "# Cargamos el archivo CSV\n",
    "df_vuelos = pd.read_csv('flights.csv')\n",
    "\n",
    "# Contamos el número de vuelos cancelados y el número total de vuelos\n",
    "vuelos_cancelados = df_vuelos['Cancelled'].sum()  # Sumar los vuelos cancelados (1 = cancelado, 0 = no cancelado)\n",
    "total_vuelos = df_vuelos['Cancelled'].count()  # Total de vuelos\n",
    "\n",
    "# Proporción esperada bajo la hipótesis nula\n",
    "p_null = 0.05\n",
    "\n",
    "# Proporción observada\n",
    "p_observada = vuelos_cancelados / total_vuelos\n",
    "\n",
    "# Cálculo del estadístico z\n",
    "numerador = p_observada - p_null\n",
    "denominador = np.sqrt(p_null * (1 - p_null) / total_vuelos)\n",
    "z_stat = numerador / denominador\n",
    "\n",
    "# Cálculo del valor p\n",
    "p_value = 2 * (1 - stats.norm.cdf(abs(z_stat)))  # Dos colas\n",
    "\n",
    "# Mostramos los resultados de la prueba z\n",
    "print(f'Estadístico z: {z_stat}')\n",
    "print(f'Valor p: {p_value}')\n",
    "\n",
    "# Interpretación\n",
    "alpha = 0.05  # Nivel de significancia (5%)\n",
    "if p_value < alpha:\n",
    "    print(\"Rechazamos la hipótesis nula (H0): La proporción de vuelos cancelados es significativamente diferente del 5%.\")\n",
    "else:\n",
    "    print(\"No rechazamos la hipótesis nula (H0): No hay evidencia suficiente para afirmar que la proporción de vuelos cancelados es diferente del 5%.\")\n",
    "\n",
    "# Creación de la gráfica\n",
    "fig, ax = plt.subplots(figsize=(8, 6))\n",
    "\n",
    "# Graficamos la proporción observada\n",
    "ax.bar(['Proporción observada'], [p_observada], color='skyblue', label='Proporción observada')\n",
    "\n",
    "# Añadimos la línea de la proporción bajo la hipótesis nula (5%)\n",
    "ax.axhline(y=p_null, color='red', linestyle='--', label='Proporción esperada (5%)')\n",
    "\n",
    "# Añadimos etiquetas y título\n",
    "ax.set_title('Comparación de la proporción de vuelos cancelados', fontsize=16)\n",
    "ax.set_ylabel('Proporción de vuelos cancelados', fontsize=14)\n",
    "ax.legend()\n",
    "\n",
    "# Mostramos la gráfica\n",
    "plt.show()\n"
   ]
  },
  {
   "cell_type": "markdown",
   "metadata": {},
   "source": [
    "# Hipótesis 3: Retrasos en llegadas comparados con salidas\n",
    "H0 (Hipótesis nula): El retraso promedio en la llegada de los vuelos es igual al retraso promedio en la salida de los vuelos.\n",
    "\n",
    "H1 (Hipótesis alternativa): El retraso promedio en la llegada de los vuelos es diferente al retraso promedio en la salida de los vuelos.\n",
    "\n",
    "Utilizaremos una prueba t para muestras emparejadas para comparar si los retrasos en la salida y la llegada son diferentes de manera significativa."
   ]
  },
  {
   "cell_type": "code",
   "execution_count": 33,
   "metadata": {},
   "outputs": [
    {
     "name": "stdout",
     "output_type": "stream",
     "text": [
      "Estadístico t: 154.10119388821818\n",
      "Valor p: 0.0\n",
      "Rechazamos la hipótesis nula (H0): Hay una diferencia significativa entre los retrasos en la salida y la llegada.\n"
     ]
    },
    {
     "data": {
      "image/png": "[encoded data removed]",
      "text/plain": [
       "<Figure size 800x600 with 1 Axes>"
      ]
     },
     "metadata": {},
     "output_type": "display_data"
    }
   ],
   "source": [
    "import pandas as pd\n",
    "import numpy as np\n",
    "from scipy import stats\n",
    "import matplotlib.pyplot as plt\n",
    "\n",
    "# Cargamos el archivo CSV\n",
    "df_vuelos = pd.read_csv('flights.csv')\n",
    "\n",
    "# Limpiamos los datos eliminando filas con valores faltantes en las columnas de retrasos\n",
    "df_vuelos = df_vuelos.dropna(subset=['DepDelay', 'ArrDelay'])\n",
    "\n",
    "# Filtramos solo vuelos no cancelados\n",
    "df_vuelos = df_vuelos[df_vuelos['Cancelled'] == 0]\n",
    "\n",
    "# Retrasos en la salida (DepDelay) y en la llegada (ArrDelay)\n",
    "retraso_salida = df_vuelos['DepDelay']\n",
    "retraso_llegada = df_vuelos['ArrDelay']\n",
    "\n",
    "# Realizamos la prueba t para muestras emparejadas\n",
    "t_stat, p_value = stats.ttest_rel(retraso_salida, retraso_llegada)\n",
    "\n",
    "# Mostramos los resultados de la prueba t\n",
    "print(f'Estadístico t: {t_stat}')\n",
    "print(f'Valor p: {p_value}')\n",
    "\n",
    "# Interpretación\n",
    "alpha = 0.05  # Nivel de significancia (5%)\n",
    "if p_value < alpha:\n",
    "    print(\"Rechazamos la hipótesis nula (H0): Hay una diferencia significativa entre los retrasos en la salida y la llegada.\")\n",
    "else:\n",
    "    print(\"No rechazamos la hipótesis nula (H0): No hay evidencia suficiente para afirmar que los retrasos en la salida y la llegada son diferentes.\")\n",
    "\n",
    "# Creación de la gráfica\n",
    "fig, ax = plt.subplots(figsize=(8, 6))\n",
    "\n",
    "# Calculamos los promedios de los retrasos en salida y llegada\n",
    "mean_retraso_salida = np.mean(retraso_salida)\n",
    "mean_retraso_llegada = np.mean(retraso_llegada)\n",
    "\n",
    "# Graficamos los promedios de retrasos\n",
    "ax.bar(['Retraso en salida'], [mean_retraso_salida], color='skyblue', label='Retraso en salida')\n",
    "ax.bar(['Retraso en llegada'], [mean_retraso_llegada], color='lightgreen', label='Retraso en llegada')\n",
    "\n",
    "# Añadimos etiquetas y título\n",
    "ax.set_title('Comparación de los retrasos promedio en salida y llegada', fontsize=16)\n",
    "ax.set_ylabel('Retraso promedio (minutos)', fontsize=14)\n",
    "ax.legend()\n",
    "\n",
    "# Mostramos la gráfica\n",
    "plt.show()\n"
   ]
  }
 ],
 "metadata": {
  "kernelspec": {
   "display_name": "Python 3",
   "language": "python",
   "name": "python3"
  },
  "language_info": {
   "codemirror_mode": {
    "name": "ipython",
    "version": 3
   },
   "file_extension": ".py",
   "mimetype": "text/x-python",
   "name": "python",
   "nbconvert_exporter": "python",
   "pygments_lexer": "ipython3",
   "version": "3.10.6"
  }
 },
 "nbformat": 4,
 "nbformat_minor": 2
}
